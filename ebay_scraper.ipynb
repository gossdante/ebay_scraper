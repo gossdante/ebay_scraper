{
  "nbformat": 4,
  "nbformat_minor": 0,
  "metadata": {
    "colab": {
      "provenance": []
    },
    "kernelspec": {
      "name": "python3",
      "display_name": "Python 3"
    },
    "language_info": {
      "name": "python"
    }
  },
  "cells": [
    {
      "cell_type": "markdown",
      "source": [
        "The goal of this document is to scrape some ebay data to get GPU prices\n",
        "I intend to use the beautiful soup package"
      ],
      "metadata": {
        "id": "Ml65Ivgoyurg"
      }
    },
    {
      "cell_type": "code",
      "execution_count": 1,
      "metadata": {
        "id": "1Yt36ZmoyrTM"
      },
      "outputs": [],
      "source": [
        "from bs4 import BeautifulSoup\n",
        "import ssl\n",
        "import urllib.request, urllib.parse\n",
        "import pandas as pd\n",
        "import time"
      ]
    },
    {
      "cell_type": "markdown",
      "source": [
        "URLS"
      ],
      "metadata": {
        "id": "EQBcI2aMz84C"
      }
    },
    {
      "cell_type": "code",
      "source": [
        "# 3060\n",
        "url=\"https://www.ebay.com/sch/27386/i.html?_from=R40&_nkw=rtx+3060&LH_ItemCondition=1500%7C2000%7C2500%7C3000%7C1000&LH_Sold=1&LH_Complete=1&_ipg=240\""
      ],
      "metadata": {
        "id": "EHi-dNk_z-Th"
      },
      "execution_count": 2,
      "outputs": []
    },
    {
      "cell_type": "markdown",
      "source": [
        "Request"
      ],
      "metadata": {
        "id": "ybo5hfaJ0JZ9"
      }
    },
    {
      "cell_type": "code",
      "source": [
        "html=urllib.request.urlopen(url).read()\n",
        "soup=BeautifulSoup(html,'html.parser')"
      ],
      "metadata": {
        "id": "cbOVDAhy0KuO"
      },
      "execution_count": 3,
      "outputs": []
    },
    {
      "cell_type": "markdown",
      "source": [
        "Get the information about each item"
      ],
      "metadata": {
        "id": "pNCS4C53424e"
      }
    },
    {
      "cell_type": "code",
      "source": [
        "main_data=soup.find_all('div',class_=\"s-item__info clearfix\")"
      ],
      "metadata": {
        "id": "ph5qu3Kb42D3"
      },
      "execution_count": 4,
      "outputs": []
    },
    {
      "cell_type": "markdown",
      "source": [
        "Now parse this & add to df"
      ],
      "metadata": {
        "id": "oDqH-3-g460S"
      }
    },
    {
      "cell_type": "code",
      "source": [
        "names=[]\n",
        "prices=[]\n",
        "i=0\n",
        "for line in main_data:\n",
        "  #print(i)\n",
        "  names.append(line.select_one(\".s-item__title span\").text)\n",
        "  prices.append(line.find(\"span\",class_=\"s-item__price\").get_text())\n",
        "\n",
        "  #df['price'][i]=price\n",
        "prices = [price.replace(\"$\", \"\") for price in prices]\n",
        "prices = [price.replace(\",\", \"\") for price in prices]\n",
        "prices = [float(price) for price in prices]\n",
        "#prices=float(prices)\n",
        "df = pd.DataFrame({\n",
        "  \"name\": names,\n",
        "  \"price\": prices\n",
        "})\n",
        "df=df.drop(0)"
      ],
      "metadata": {
        "id": "IBIT58oE1kdE"
      },
      "execution_count": 5,
      "outputs": []
    },
    {
      "cell_type": "code",
      "source": [
        "#print(df.head())\n",
        "\n",
        "print('Max Price',df['price'].max())\n",
        "print('Mean Price',df['price'].mean())\n",
        "print('Min Price',df['price'].min())"
      ],
      "metadata": {
        "colab": {
          "base_uri": "https://localhost:8080/"
        },
        "id": "nLgbkl_5EE_F",
        "outputId": "9355df23-e8d5-410c-efe3-4e5d31e36a1e"
      },
      "execution_count": 6,
      "outputs": [
        {
          "output_type": "stream",
          "name": "stdout",
          "text": [
            "Max Price 500.0\n",
            "Mean Price 234.19925\n",
            "Min Price 7.58\n"
          ]
        }
      ]
    },
    {
      "cell_type": "code",
      "source": [
        "#df[df['price']>50]\n",
        "print('Mean with values below 50 removed: ',df[df['price']>50]['price'].mean())\n",
        "print('Max with values below 50 removed: ',df[df['price']>50]['price'].max())\n",
        "print('Min with values below 50 removed: ',df[df['price']>50]['price'].min())"
      ],
      "metadata": {
        "colab": {
          "base_uri": "https://localhost:8080/"
        },
        "id": "Mm-s7LLsOOt-",
        "outputId": "4b942271-95f4-4697-af83-be64174009c8"
      },
      "execution_count": 7,
      "outputs": [
        {
          "output_type": "stream",
          "name": "stdout",
          "text": [
            "Mean with values below 50 removed:  237.0027848101266\n",
            "Max with values below 50 removed:  500.0\n",
            "Min with values below 50 removed:  56.0\n"
          ]
        }
      ]
    },
    {
      "cell_type": "code",
      "source": [
        "# GPU's I want to search\n",
        "GPUs=['RTX 4090', 'RTX 4080', 'RX 7900 XTX', 'RTX 4070 Ti', 'RTX 3090 Ti',\n",
        "      'RX 6950 XT', 'RX 7900 XT', 'RTX 3080 Ti', 'RTX 3090', 'RTX 3080',\n",
        "      'RX 6900', 'RX 6800', 'RTX 3070', 'RTX 3070 Ti', 'RTX 2080 Ti',\n",
        "      'RX 6800 XT', 'RX 6750 XT', 'RTX 3060 Ti', 'RX 6700 XT', 'RTX 2080 super',\n",
        "      'RTX 2080', 'GTX 1080 Ti', 'RTX 2070 Super', 'RX 6650 XT', 'RTX 3060',\n",
        "      'RX 5700 XT', 'RTX 2060 Super', 'RX 6600 XT', 'RTX 2070', 'RTX 2060',\n",
        "      'GTX 1080', 'RX 6600', 'RX 5700', 'GTX 1070 Ti', 'RTX 2060', 'GTX 980 Ti',\n",
        "      'RX 5600 XT', 'GTX 1070', 'GTX 1660 Super', 'GTX 1660', 'GTX 3050',\n",
        "      'GTX 1650 Super','GTX 1060','RX 6500 XT', 'GTX 760 Ti', 'GTX 750 Ti',\n",
        "      'GTX 1050']\n",
        "CPUs= ['Ryzen 5 3600', 'Ryzen 5 5500', 'Ryzen 5 5600', 'Ryzen 5 4600G',\n",
        "       'Ryzen 7 2700X', 'Ryzen 5 3600X', 'Ryzen 7 4700', 'Ryzen 7 5700',\n",
        "       'Ryzen 5 5600X', 'Ryzen 7 5800', 'Ryzen 5 7600X', 'Ryzen 5 7600',\n",
        "       'Ryzen 9 5900', 'Ryzen 9 3950X']\n",
        "Motherboards= ['b450', 'b550', 'b460', 'b560']"
      ],
      "metadata": {
        "id": "Yivln-nqOwUm"
      },
      "execution_count": 8,
      "outputs": []
    },
    {
      "cell_type": "markdown",
      "source": [
        "Things to do.\n",
        "1. make a loop that goes through all the items in the GPUs list.\n",
        "2. For each item in the loop, replace the space with +.\n",
        "3. Do a search for those terms & make a similar dataframe to before\n",
        "4. Put the name, min, max, mean, sd in a master dataframe."
      ],
      "metadata": {
        "id": "-q2H4WL-TLlg"
      }
    },
    {
      "cell_type": "code",
      "source": [
        "master_df = pd.DataFrame(columns=['name', 'min price', 'mean price', 'max price'])\n",
        "master_df['name']=GPUs\n",
        "# what is the length of GPUs?\n",
        "# print('Number of GPUs to search: ',len(GPUs))\n",
        "# 'https://www.ebay.com/sch/27386/i.html?_from=R40&_nkw=RX%206950%20XT&LH_ItemCondition=1500%7C2000%7C2500%7C3000%7C1000&LH_Sold=1&LH_Complete=1&_ipg=240&rt=nc&_udlo=50'\n",
        "# what is the string to put the search in?\n",
        "urlp1=\"https://www.ebay.com/sch/27386/i.html?_from=R40&_nkw=\"\n",
        "urlp2=\"&LH_ItemCondition=1500%7C2000%7C2500%7C3000%7C1000&LH_Sold=1&LH_Complete=1&_ipg=240&rt=nc&_udlo=50\"\n",
        "j=0\n",
        "for gpu in GPUs:\n",
        "  searchstr=(gpu.replace(\" \", \"%20\"))\n",
        "  url=str.join(\"\", [urlp1,searchstr,urlp2])\n",
        "  #print(url)\n",
        "  html=urllib.request.urlopen(url).read()\n",
        "  soup=BeautifulSoup(html,'html.parser')\n",
        "  main_data=soup.find_all('div',class_=\"s-item__info clearfix\")\n",
        "\n",
        "  names=[]\n",
        "  prices=[]\n",
        "  i=0\n",
        "  for line in main_data:\n",
        "    #print(i)\n",
        "    if \"to\" not in line.find(\"span\",class_=\"s-item__price\").get_text():\n",
        "      #print(\"yes\")\n",
        "      names.append(line.select_one(\".s-item__title span\").text)\n",
        "      prices.append(line.find(\"span\",class_=\"s-item__price\").get_text())\n",
        "\n",
        "    #df['price'][i]=price\n",
        "  prices = [price.replace(\"$\", \"\") for price in prices]\n",
        "  prices = [price.replace(\",\", \"\") for price in prices]\n",
        "  prices = [float(price) for price in prices]\n",
        "  #prices=float(prices)\n",
        "  df = pd.DataFrame({\n",
        "    \"name\": names,\n",
        "    \"price\": prices\n",
        "  })\n",
        "  df=df.drop(0)\n",
        "  #print('Max Price',df['price'].max())\n",
        "  #print('Mean Price',df['price'].mean())\n",
        "  #print('Min Price',df['price'].min())\n",
        "\n",
        "#time.sleep(0.1)\n",
        "  master_df['min price'][j]=df['price'].min()\n",
        "  master_df['mean price'][j]=df['price'].mean()\n",
        "  master_df['max price'][j]=df['price'].max()\n",
        "  j=j+1\n",
        "  #print(master_df.head())\n",
        "\n"
      ],
      "metadata": {
        "id": "VNizQohPTqa9"
      },
      "execution_count": 9,
      "outputs": []
    },
    {
      "cell_type": "code",
      "source": [
        "print(master_df)"
      ],
      "metadata": {
        "colab": {
          "base_uri": "https://localhost:8080/"
        },
        "id": "2wn3SH1aMmIx",
        "outputId": "745ff0aa-8911-4009-c1db-b2cda3ca6e90"
      },
      "execution_count": null,
      "outputs": [
        {
          "output_type": "stream",
          "name": "stdout",
          "text": [
            "              name min price   mean price max price\n",
            "0         RTX 4090     64.99  1538.855708    3150.0\n",
            "1         RTX 4080     59.99  1066.052208    1695.0\n",
            "2      RX 7900 XTX    649.99   922.295189   1562.88\n",
            "3      RTX 4070 Ti     100.0   809.112833    2299.0\n",
            "4      RTX 3090 Ti     77.98   763.097333   2276.99\n",
            "5       RX 6950 XT      86.0   619.373308     900.0\n",
            "6       RX 7900 XT    649.99   783.459333   1129.99\n",
            "7      RTX 3080 Ti     102.5   651.785941    1400.0\n",
            "8         RTX 3090     77.98   763.097333   2276.99\n",
            "9         RTX 3080     318.0   564.173708   1698.88\n",
            "10         RX 6900     250.0   550.733583    1399.0\n",
            "11         RX 6800     275.0   437.710708    866.66\n",
            "12        RTX 3070     187.5   346.294375     700.0\n",
            "13     RTX 3070 Ti     243.5   349.408042    962.83\n",
            "14     RTX 2080 Ti     99.95   373.314603     998.0\n",
            "15      RX 6800 XT     350.0      472.894    866.66\n",
            "16      RX 6750 XT     281.0   347.799444    500.41\n",
            "17     RTX 3060 Ti     102.5   305.161125     799.0\n",
            "18      RX 6700 XT     200.0   289.746958    549.99\n",
            "19  RTX 2080 super     150.0   281.706083    799.99\n",
            "20        RTX 2080      70.0   308.790335     998.0\n",
            "21     GTX 1080 Ti     69.97   208.291125     920.0\n",
            "22  RTX 2070 Super     150.0    245.41325   2031.67\n",
            "23      RX 6650 XT     185.0   243.823043    389.99\n",
            "24        RTX 3060     174.0    289.41225    649.98\n",
            "25      RX 5700 XT      90.0    161.50875     499.0\n",
            "26  RTX 2060 Super      95.0   209.118958     812.0\n",
            "27      RX 6600 XT    119.98   215.099542   1226.99\n",
            "28        RTX 2070     99.95    224.03175     980.0\n",
            "29        RTX 2060      85.0     180.9375     812.0\n",
            "30        GTX 1080      56.0   171.750208     359.1\n",
            "31         RX 6600     110.0   190.050708    555.91\n",
            "32         RX 5700     87.83      156.913     499.0\n",
            "33     GTX 1070 Ti      70.0   128.065542     305.0\n",
            "34        RTX 2060      85.0     180.9375     812.0\n",
            "35      GTX 980 Ti      55.0   113.225875     610.0\n",
            "36      RX 5600 XT      52.0   119.813792     250.0\n",
            "37        GTX 1070      61.0   108.104083     259.0\n",
            "38  GTX 1660 Super     63.99   125.118833     812.0\n",
            "39        GTX 1660      55.0   122.813833     812.0\n",
            "40        GTX 3050      50.0   192.559524    899.99\n",
            "41  GTX 1650 Super      59.0   110.405375    288.88\n",
            "42        GTX 1060      50.0    89.673833    555.91\n",
            "43      RX 6500 XT      63.0   116.740338    229.99\n",
            "44      GTX 760 Ti      50.0    85.278694     250.0\n",
            "45      GTX 750 Ti      50.0    68.505957     325.0\n",
            "46        GTX 1050      50.0     90.13425     456.0\n"
          ]
        }
      ]
    },
    {
      "cell_type": "code",
      "source": [
        "from google.colab import drive\n",
        "drive.mount('/content/gdrive')\n"
      ],
      "metadata": {
        "colab": {
          "base_uri": "https://localhost:8080/"
        },
        "id": "URd0rVMBM9Ma",
        "outputId": "b8fb216e-1792-43ac-b4ed-56776274410a"
      },
      "execution_count": null,
      "outputs": [
        {
          "output_type": "stream",
          "name": "stdout",
          "text": [
            "Mounted at /content/gdrive\n"
          ]
        }
      ]
    },
    {
      "cell_type": "code",
      "source": [
        "# Save the object to a file in your Google Drive\n",
        "master_df.to_csv('/content/gdrive/My Drive/master_GPU_df.csv', index=False)\n"
      ],
      "metadata": {
        "id": "EJKTGQvfNRdZ"
      },
      "execution_count": null,
      "outputs": []
    },
    {
      "cell_type": "markdown",
      "source": [],
      "metadata": {
        "id": "D_BGoMZfagFX"
      }
    },
    {
      "cell_type": "markdown",
      "source": [
        "Now for CPUs"
      ],
      "metadata": {
        "id": "2HAHDDjFOUPn"
      }
    },
    {
      "cell_type": "code",
      "source": [
        "cpu_master_df = pd.DataFrame(columns=['name', 'min price', 'mean price', 'max price'])\n",
        "cpu_master_df['name']=CPUs\n",
        "# 'https://www.ebay.com/sch/i.html?_from=R40&_nkw=ryzen+5+3600&_sacat=164&LH_Sold=1&LH_Complete=1&rt=nc&LH_ItemCondition=1000%7C1500%7C2500%7C3000&_ipg=240'\n",
        "# what is the string to put the search in?\n",
        "urlp1=\"https://www.ebay.com/sch/i.html?_from=R40&_nkw=\"\n",
        "urlp2=\"&_sacat=164&LH_Sold=1&LH_Complete=1&rt=nc&LH_ItemCondition=1000%7C1500%7C2500%7C3000&_ipg=240\"\n",
        "j=0\n",
        "for cpu in CPUs:\n",
        "  searchstr=(cpu.replace(\" \", \"+\"))\n",
        "  url=str.join(\"\", [urlp1,searchstr,urlp2])\n",
        "  #print(url)\n",
        "  html=urllib.request.urlopen(url).read()\n",
        "  soup=BeautifulSoup(html,'html.parser')\n",
        "  main_data=soup.find_all('div',class_=\"s-item__info clearfix\")\n",
        "\n",
        "  names=[]\n",
        "  prices=[]\n",
        "  i=0\n",
        "  for line in main_data:\n",
        "    #print(i)\n",
        "    if \"to\" not in line.find(\"span\",class_=\"s-item__price\").get_text():\n",
        "      #print(\"yes\")\n",
        "      names.append(line.select_one(\".s-item__title span\").text)\n",
        "      prices.append(line.find(\"span\",class_=\"s-item__price\").get_text())\n",
        "\n",
        "    #df['price'][i]=price\n",
        "  prices = [price.replace(\"$\", \"\") for price in prices]\n",
        "  prices = [price.replace(\",\", \"\") for price in prices]\n",
        "  prices = [float(price) for price in prices]\n",
        "  #prices=float(prices)\n",
        "  df = pd.DataFrame({\n",
        "    \"name\": names,\n",
        "    \"price\": prices\n",
        "  })\n",
        "  df=df.drop(0)\n",
        "  #print('Max Price',df['price'].max())\n",
        "  #print('Mean Price',df['price'].mean())\n",
        "  #print('Min Price',df['price'].min())\n",
        "\n",
        "#time.sleep(0.1)\n",
        "  cpu_master_df['min price'][j]=df['price'].min()\n",
        "  cpu_master_df['mean price'][j]=df['price'].mean()\n",
        "  cpu_master_df['max price'][j]=df['price'].max()\n",
        "  j=j+1\n",
        "  #print(master_df.head())\n",
        "\n",
        "print(cpu_master_df)"
      ],
      "metadata": {
        "colab": {
          "base_uri": "https://localhost:8080/"
        },
        "id": "UX_ZauzeOVsa",
        "outputId": "22dc99c9-1191-4c5b-92a7-a761452a0f40"
      },
      "execution_count": null,
      "outputs": [
        {
          "output_type": "stream",
          "name": "stdout",
          "text": [
            "             name min price  mean price max price\n",
            "0    Ryzen 5 3600     19.98    72.37521    399.95\n",
            "1    Ryzen 5 5500       5.0   84.133233    179.99\n",
            "2    Ryzen 5 5600      15.0   116.63654    196.14\n",
            "3   Ryzen 5 4600G      22.0   71.690039     300.0\n",
            "4   Ryzen 7 2700X     21.99    91.32135    319.99\n",
            "5   Ryzen 5 3600X      16.1   90.423125    259.99\n",
            "6    Ryzen 7 4700      35.0  132.221741     310.0\n",
            "7    Ryzen 7 5700      60.0  165.384519     280.0\n",
            "8   Ryzen 5 5600X      4.99  124.251176    205.52\n",
            "9    Ryzen 7 5800     59.99  210.548383     460.0\n",
            "10  Ryzen 5 7600X     135.0  201.841979     275.0\n",
            "11   Ryzen 5 7600     135.0  200.705648     275.0\n",
            "12   Ryzen 9 5900     170.1  281.392385    2399.0\n",
            "13  Ryzen 9 3950X     175.0   327.48901     630.0\n"
          ]
        }
      ]
    },
    {
      "cell_type": "code",
      "source": [
        "cpu_master_df.to_csv('/content/gdrive/My Drive/master_CPU_df.csv', index=False)"
      ],
      "metadata": {
        "id": "S7_Yqgh4RBeN"
      },
      "execution_count": null,
      "outputs": []
    },
    {
      "cell_type": "markdown",
      "source": [
        "Motherboards"
      ],
      "metadata": {
        "id": "iToMRcM8cw3U"
      }
    },
    {
      "cell_type": "markdown",
      "source": [
        "M"
      ],
      "metadata": {
        "id": "h4-FAalycwoe"
      }
    },
    {
      "cell_type": "code",
      "source": [
        "moth_master_df = pd.DataFrame(columns=['name', 'min price', 'mean price', 'max price'])\n",
        "moth_master_df['name']= Motherboards\n",
        "# 'https://www.ebay.com/sch/i.html?_from=R40&_nkw=b450%20&_sacat=1244&LH_TitleDesc=0&LH_Sold=1&LH_Complete=1&LH_ItemCondition=1000%7C1500%7C2500%7C3000&_ipg=240&rt=nc&_udlo=30'\n",
        "# what is the string to put the search in?\n",
        "urlp1=\"https://www.ebay.com/sch/i.html?_from=R40&_nkw=\"\n",
        "urlp2=\"%20&_sacat=1244&LH_TitleDesc=0&LH_Sold=1&LH_Complete=1&LH_ItemCondition=1000%7C1500%7C2500%7C3000&_ipg=240&rt=nc&_udlo=30\"\n",
        "j=0\n",
        "for moth in Motherboards:\n",
        "  searchstr=(moth.replace(\" \", \"+\"))\n",
        "  url=str.join(\"\", [urlp1,searchstr,urlp2])\n",
        "  #print(url)\n",
        "  html=urllib.request.urlopen(url).read()\n",
        "  soup=BeautifulSoup(html,'html.parser')\n",
        "  main_data=soup.find_all('div',class_=\"s-item__info clearfix\")\n",
        "\n",
        "  names=[]\n",
        "  prices=[]\n",
        "  i=0\n",
        "  for line in main_data:\n",
        "    #print(i)\n",
        "    if \"to\" not in line.find(\"span\",class_=\"s-item__price\").get_text():\n",
        "      #print(\"yes\")\n",
        "      names.append(line.select_one(\".s-item__title span\").text)\n",
        "      prices.append(line.find(\"span\",class_=\"s-item__price\").get_text())\n",
        "\n",
        "    #df['price'][i]=price\n",
        "  prices = [price.replace(\"$\", \"\") for price in prices]\n",
        "  prices = [price.replace(\",\", \"\") for price in prices]\n",
        "  prices = [float(price) for price in prices]\n",
        "  #prices=float(prices)\n",
        "  df = pd.DataFrame({\n",
        "    \"name\": names,\n",
        "    \"price\": prices\n",
        "  })\n",
        "  df=df.drop(0)\n",
        "  #print('Max Price',df['price'].max())\n",
        "  #print('Mean Price',df['price'].mean())\n",
        "  #print('Min Price',df['price'].min())\n",
        "\n",
        "#time.sleep(0.1)\n",
        "  moth_master_df['min price'][j]=df['price'].min()\n",
        "  moth_master_df['mean price'][j]=df['price'].mean()\n",
        "  moth_master_df['max price'][j]=df['price'].max()\n",
        "  j=j+1\n",
        "  #print(master_df.head())\n",
        "\n",
        "print(moth_master_df)"
      ],
      "metadata": {
        "colab": {
          "base_uri": "https://localhost:8080/"
        },
        "id": "1JiRf-UVcugH",
        "outputId": "02fabe0a-231c-4973-c1b6-c2756757d846"
      },
      "execution_count": null,
      "outputs": [
        {
          "output_type": "stream",
          "name": "stdout",
          "text": [
            "   name min price mean price max price\n",
            "0  b450      35.0  84.288912     425.0\n",
            "1  b550      35.0  112.40437    499.95\n",
            "2  b460      30.0  89.473533   1203.75\n",
            "3  b560      31.0  97.197458     240.9\n"
          ]
        }
      ]
    },
    {
      "cell_type": "code",
      "source": [
        "moth_master_df.to_csv('/content/gdrive/My Drive/master_motherboards_df.csv', index=False)"
      ],
      "metadata": {
        "id": "n8FZ_PN-df93"
      },
      "execution_count": null,
      "outputs": []
    }
  ]
}